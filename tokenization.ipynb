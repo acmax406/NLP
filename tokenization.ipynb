{
 "cells": [
  {
   "cell_type": "markdown",
   "id": "37de77a7",
   "metadata": {},
   "source": [
    "### Tokenization"
   ]
  },
  {
   "cell_type": "code",
   "execution_count": 18,
   "id": "5e6b9fab",
   "metadata": {},
   "outputs": [
    {
     "name": "stdout",
     "output_type": "stream",
     "text": [
      "{'i': 1, 'love': 2, 'my': 3, 'dog': 4, 'cat': 5, 'you': 6, 'this': 7, 'is': 8, 'the': 9, 'beautiful': 10, 'place': 11, 'ever': 12, 'seen': 13}\n"
     ]
    }
   ],
   "source": [
    "from tensorflow.keras.preprocessing.text import Tokenizer\n",
    "\n",
    "sentences = [\n",
    "    'i love my dog',\n",
    "    'I, love my cat',\n",
    "    'You love my dog!'\n",
    "    'this is the beautiful place i ever seen'\n",
    "]\n",
    "\n",
    "tokenizer = Tokenizer(num_words = 100)\n",
    "tokenizer.fit_on_texts(sentences)\n",
    "word_index = tokenizer.word_index\n",
    "print(word_index)"
   ]
  },
  {
   "cell_type": "code",
   "execution_count": 21,
   "id": "38429618",
   "metadata": {},
   "outputs": [
    {
     "name": "stdout",
     "output_type": "stream",
     "text": [
      "these are just word indexes\n",
      "{'i': 1, 'love': 2, 'my': 3, 'dog': 4, 'cat': 5, 'you': 6, 'this': 7, 'is': 8, 'the': 9, 'beautiful': 10, 'place': 11, 'ever': 12, 'seen': 13}\n",
      "these are the sequence of the words\n",
      "[[1, 2, 3, 4], [1, 2, 3, 5], [6, 2, 3, 4, 7, 8, 9, 10, 11, 1, 12, 13]]\n",
      "it ensures that every sentence is of equal size\n",
      "[[ 0  0  0  0  0  0  0  0  1  2  3  4]\n",
      " [ 0  0  0  0  0  0  0  0  1  2  3  5]\n",
      " [ 6  2  3  4  7  8  9 10 11  1 12 13]]\n"
     ]
    }
   ],
   "source": [
    "from tensorflow.keras.preprocessing.sequence import pad_sequences\n",
    "sequences = tokenizer.texts_to_sequences(sentences)\n",
    "padded = pad_sequences(sequences)\n",
    "print('these are just word indexes')\n",
    "print(word_index)\n",
    "print(\"these are the sequence of the words\")\n",
    "print(sequences)\n",
    "print(\"it ensures that every sentence is of equal size\")\n",
    "print(padded)"
   ]
  },
  {
   "cell_type": "code",
   "execution_count": 25,
   "id": "8512d59f",
   "metadata": {},
   "outputs": [
    {
     "name": "stdout",
     "output_type": "stream",
     "text": [
      "[[ 1  2  3  4  0]\n",
      " [ 1  2  3  5  0]\n",
      " [10 11  1 12 13]]\n"
     ]
    }
   ],
   "source": [
    "#here we can put the maximum length require as well\n",
    "padded = pad_sequences(sequences, padding = 'post',maxlen=5)\n",
    "print(padded)"
   ]
  },
  {
   "cell_type": "code",
   "execution_count": 29,
   "id": "4fba04cb",
   "metadata": {},
   "outputs": [
    {
     "name": "stdout",
     "output_type": "stream",
     "text": [
      "[[1 2 3 4 0]\n",
      " [1 2 3 5 0]\n",
      " [6 2 3 4 7]]\n"
     ]
    }
   ],
   "source": [
    "#cutting the senetence(truncating)post or pre\n",
    "padded = pad_sequences(sequences,padding ='post',truncating='post',maxlen= 5)\n",
    "print(padded)"
   ]
  },
  {
   "cell_type": "code",
   "execution_count": null,
   "id": "c0f902ea",
   "metadata": {},
   "outputs": [],
   "source": []
  }
 ],
 "metadata": {
  "kernelspec": {
   "display_name": "Python 3 (ipykernel)",
   "language": "python",
   "name": "python3"
  },
  "language_info": {
   "codemirror_mode": {
    "name": "ipython",
    "version": 3
   },
   "file_extension": ".py",
   "mimetype": "text/x-python",
   "name": "python",
   "nbconvert_exporter": "python",
   "pygments_lexer": "ipython3",
   "version": "3.9.12"
  }
 },
 "nbformat": 4,
 "nbformat_minor": 5
}

{
 "cells": [
  {
   "cell_type": "code",
   "execution_count": 27,
   "id": "89b203a4",
   "metadata": {},
   "outputs": [],
   "source": [
    "import json\n",
    "datastore = [json.loads(line)\n",
    "        for line in open('Sarcasm_Headlines_Dataset.json', 'r', encoding='utf-8')]\n",
    "    \n",
    "sentences =[]\n",
    "labels=[]\n",
    "urls =[]\n",
    "\n",
    "for item in datastore:\n",
    "    sentences.append(item['headline'])\n",
    "    labels.append(item['is_sarcastic'])\n",
    "    urls.append(item['article_link'])\n",
    "    \n"
   ]
  },
  {
   "cell_type": "code",
   "execution_count": 33,
   "id": "f763df74",
   "metadata": {},
   "outputs": [],
   "source": [
    "from tensorflow.keras.preprocessing.text import Tokenizer\n",
    "from tensorflow.keras.preprocessing.sequence import pad_sequences\n",
    "#will create token for every words of the headline which is stored in sentences\n",
    "tokenizer = Tokenizer(oov_token = \"<OOV>\")\n",
    "tokenizer.fit_on_texts(sentences)\n",
    "#this will create the words indexes\n",
    "word_index = tokenizer.word_index"
   ]
  },
  {
   "cell_type": "code",
   "execution_count": 40,
   "id": "b6824ccd",
   "metadata": {},
   "outputs": [
    {
     "name": "stdout",
     "output_type": "stream",
     "text": [
      "[  308 15115   679  3337  2298    48   382  2576 15116     6  2577  8434\n",
      "     0     0     0     0     0     0     0     0     0     0     0     0\n",
      "     0     0     0     0     0     0     0     0     0     0     0     0\n",
      "     0     0     0     0]\n",
      "(26709, 40)\n"
     ]
    }
   ],
   "source": [
    "#now creating the sequence of tokens\n",
    "sequences = tokenizer.texts_to_sequences(sentences)\n",
    "padded = pad_sequences(sequences, padding='post')\n",
    "print(padded[0])\n",
    "print(padded.shape)"
   ]
  },
  {
   "cell_type": "code",
   "execution_count": 73,
   "id": "6b45ac5d",
   "metadata": {},
   "outputs": [],
   "source": [
    "vocab_size = 10000\n",
    "embedding_dim = 16\n",
    "max_length = 100\n",
    "trunc_type='post'\n",
    "padding_type='post'\n",
    "oov_tok = \"<OOV>\"\n",
    "training_size = 20000"
   ]
  },
  {
   "cell_type": "code",
   "execution_count": 59,
   "id": "ada7f449",
   "metadata": {},
   "outputs": [
    {
     "data": {
      "text/plain": [
       "20000"
      ]
     },
     "execution_count": 59,
     "metadata": {},
     "output_type": "execute_result"
    }
   ],
   "source": [
    "'''now to test its effectiveness over the neural networks, we have to ensures\n",
    "that the neural network sees only the training data not the test data. hence,let's \n",
    "rewrite the code once again so that the tokenizer just fit to the training data. .\n",
    "'''\n",
    "\n",
    "#dividing the senetences and lables into training and test datasets\n",
    "\n",
    "training_sentences = sentences[0:training_size]\n",
    "testing_sentences = sentences[training_size:]\n",
    "\n",
    "training_labels = labels[0:training_size]\n",
    "testing_labels = labels[training_size:]\n",
    "len(training_sentences)"
   ]
  },
  {
   "cell_type": "code",
   "execution_count": 67,
   "id": "f58c6e4e",
   "metadata": {},
   "outputs": [],
   "source": [
    "#instantiate the tokenizers\n",
    "tokenizer = Tokenizer(num_words= vocab_size, oov_token = oov_tok)\n",
    "tokenizer.fit_on_texts(training_sentences)\n",
    "#creating the indexes for the tokens\n",
    "word_index = tokenizer.word_index\n",
    "\n",
    "#tokenising training sequences\n",
    "training_sequences = tokenizer.texts_to_sequences(training_sentences)\n",
    "training_padded = pad_sequences(training_sequences, maxlen = max_length,\n",
    "                               padding = padding_type,truncating= trunc_type)\n",
    "#tokensing test sequences\n",
    "testing_sequences = tokenizer.texts_to_sequences(testing_sentences)\n",
    "testing_padded = pad_sequences(testing_sequences, maxlen = max_length,\n",
    "                              padding = padding_type, truncating= trunc_type)\n"
   ]
  },
  {
   "cell_type": "code",
   "execution_count": 68,
   "id": "a058813d",
   "metadata": {},
   "outputs": [],
   "source": [
    "'''embedding is a learned representation of a set of discrete symbols. \n",
    "In the context of neural networks, an embedding is a dense vector representation \n",
    "of a categorical variable, such as a word or a discrete symbol. Embeddings can\n",
    "be learned as part of a neural network model and can be used to improve the performance\n",
    "of the model on a downstream task. For example, word embeddings, such as word2vec or GloVe,\n",
    "are learned representations of words that can be used as input to a neural network model\n",
    "for tasks such as language translation or text classification. Similarly, character embeddings\n",
    "can be learned and used to represent characters in a language model or text classifier.'''\n",
    "\n",
    "import numpy as np\n",
    "training_padded = np.array(training_padded)\n",
    "training_labels = np.array(training_labels)\n",
    "testing_padded = np.array(testing_padded)\n",
    "testing_labels = np.array(testing_labels)"
   ]
  },
  {
   "cell_type": "code",
   "execution_count": 79,
   "id": "da24e48a",
   "metadata": {},
   "outputs": [],
   "source": [
    "import tensorflow as tf\n",
    "model = tf.keras.Sequential([\n",
    "    tf.keras.layers.Embedding(vocab_size, embedding_dim, input_length= max_length),\n",
    "    tf.keras.layers.GlobalAveragePooling1D(),\n",
    "    tf.keras.layers.Dense(24, activation ='relu'),\n",
    "    tf.keras.layers.Dense(1,activation ='sigmoid')\n",
    "])\n",
    "\n",
    "''' ***loss: a function that measures the error between the predicted output \n",
    "and the true output. You can use the binary_crossentropy loss function for \n",
    "binary classification tasks.\n",
    "\n",
    "***optimizer: an algorithm used to update the model weights based on the gradient\n",
    "of the loss function. The Adam optimizer is a popular choice for many tasks.\n",
    "\n",
    "***metrics: a list of metrics to evaluate the model during training and testing. \n",
    "The accuracy metric will compute the fraction of correctly classified samples.'''\n",
    "\n",
    "model.compile(loss = 'binary_crossentropy', optimizer = 'adam',metrics=['accuracy'])"
   ]
  },
  {
   "cell_type": "code",
   "execution_count": 81,
   "id": "51152eb2",
   "metadata": {},
   "outputs": [
    {
     "name": "stdout",
     "output_type": "stream",
     "text": [
      "Model: \"sequential_4\"\n",
      "_________________________________________________________________\n",
      " Layer (type)                Output Shape              Param #   \n",
      "=================================================================\n",
      " embedding_4 (Embedding)     (None, 100, 16)           160000    \n",
      "                                                                 \n",
      " global_average_pooling1d_4   (None, 16)               0         \n",
      " (GlobalAveragePooling1D)                                        \n",
      "                                                                 \n",
      " dense_8 (Dense)             (None, 24)                408       \n",
      "                                                                 \n",
      " dense_9 (Dense)             (None, 1)                 25        \n",
      "                                                                 \n",
      "=================================================================\n",
      "Total params: 160,433\n",
      "Trainable params: 160,433\n",
      "Non-trainable params: 0\n",
      "_________________________________________________________________\n"
     ]
    }
   ],
   "source": [
    "model.summary()"
   ]
  },
  {
   "cell_type": "code",
   "execution_count": 82,
   "id": "bcc55a0d",
   "metadata": {
    "scrolled": true
   },
   "outputs": [
    {
     "name": "stdout",
     "output_type": "stream",
     "text": [
      "Epoch 1/30\n",
      "625/625 - 5s - loss: 0.6816 - accuracy: 0.5591 - val_loss: 0.6550 - val_accuracy: 0.5657 - 5s/epoch - 9ms/step\n",
      "Epoch 2/30\n",
      "625/625 - 2s - loss: 0.5131 - accuracy: 0.7786 - val_loss: 0.4168 - val_accuracy: 0.8305 - 2s/epoch - 4ms/step\n",
      "Epoch 3/30\n",
      "625/625 - 2s - loss: 0.3450 - accuracy: 0.8584 - val_loss: 0.3639 - val_accuracy: 0.8481 - 2s/epoch - 3ms/step\n",
      "Epoch 4/30\n",
      "625/625 - 2s - loss: 0.2872 - accuracy: 0.8878 - val_loss: 0.3469 - val_accuracy: 0.8550 - 2s/epoch - 3ms/step\n",
      "Epoch 5/30\n",
      "625/625 - 2s - loss: 0.2505 - accuracy: 0.9028 - val_loss: 0.3407 - val_accuracy: 0.8562 - 2s/epoch - 3ms/step\n",
      "Epoch 6/30\n",
      "625/625 - 2s - loss: 0.2221 - accuracy: 0.9145 - val_loss: 0.3526 - val_accuracy: 0.8460 - 2s/epoch - 3ms/step\n",
      "Epoch 7/30\n",
      "625/625 - 2s - loss: 0.1987 - accuracy: 0.9247 - val_loss: 0.3510 - val_accuracy: 0.8520 - 2s/epoch - 3ms/step\n",
      "Epoch 8/30\n",
      "625/625 - 2s - loss: 0.1797 - accuracy: 0.9311 - val_loss: 0.3558 - val_accuracy: 0.8541 - 2s/epoch - 2ms/step\n",
      "Epoch 9/30\n",
      "625/625 - 2s - loss: 0.1622 - accuracy: 0.9388 - val_loss: 0.3704 - val_accuracy: 0.8526 - 2s/epoch - 2ms/step\n",
      "Epoch 10/30\n",
      "625/625 - 2s - loss: 0.1489 - accuracy: 0.9448 - val_loss: 0.3852 - val_accuracy: 0.8508 - 2s/epoch - 3ms/step\n",
      "Epoch 11/30\n",
      "625/625 - 2s - loss: 0.1350 - accuracy: 0.9518 - val_loss: 0.3947 - val_accuracy: 0.8557 - 2s/epoch - 3ms/step\n",
      "Epoch 12/30\n",
      "625/625 - 2s - loss: 0.1245 - accuracy: 0.9572 - val_loss: 0.4115 - val_accuracy: 0.8511 - 2s/epoch - 3ms/step\n",
      "Epoch 13/30\n",
      "625/625 - 2s - loss: 0.1137 - accuracy: 0.9606 - val_loss: 0.4329 - val_accuracy: 0.8493 - 2s/epoch - 3ms/step\n",
      "Epoch 14/30\n",
      "625/625 - 2s - loss: 0.1065 - accuracy: 0.9635 - val_loss: 0.4555 - val_accuracy: 0.8427 - 2s/epoch - 3ms/step\n",
      "Epoch 15/30\n",
      "625/625 - 2s - loss: 0.0973 - accuracy: 0.9684 - val_loss: 0.4751 - val_accuracy: 0.8419 - 2s/epoch - 3ms/step\n",
      "Epoch 16/30\n",
      "625/625 - 2s - loss: 0.0904 - accuracy: 0.9696 - val_loss: 0.4972 - val_accuracy: 0.8407 - 2s/epoch - 3ms/step\n",
      "Epoch 17/30\n",
      "625/625 - 2s - loss: 0.0832 - accuracy: 0.9725 - val_loss: 0.5167 - val_accuracy: 0.8420 - 2s/epoch - 3ms/step\n",
      "Epoch 18/30\n",
      "625/625 - 2s - loss: 0.0774 - accuracy: 0.9754 - val_loss: 0.5398 - val_accuracy: 0.8386 - 2s/epoch - 3ms/step\n",
      "Epoch 19/30\n",
      "625/625 - 2s - loss: 0.0715 - accuracy: 0.9779 - val_loss: 0.5641 - val_accuracy: 0.8359 - 2s/epoch - 3ms/step\n",
      "Epoch 20/30\n",
      "625/625 - 2s - loss: 0.0657 - accuracy: 0.9796 - val_loss: 0.5943 - val_accuracy: 0.8325 - 2s/epoch - 3ms/step\n",
      "Epoch 21/30\n",
      "625/625 - 2s - loss: 0.0614 - accuracy: 0.9802 - val_loss: 0.6382 - val_accuracy: 0.8310 - 2s/epoch - 3ms/step\n",
      "Epoch 22/30\n",
      "625/625 - 2s - loss: 0.0582 - accuracy: 0.9815 - val_loss: 0.6561 - val_accuracy: 0.8323 - 2s/epoch - 3ms/step\n",
      "Epoch 23/30\n",
      "625/625 - 2s - loss: 0.0516 - accuracy: 0.9855 - val_loss: 0.6709 - val_accuracy: 0.8325 - 2s/epoch - 3ms/step\n",
      "Epoch 24/30\n",
      "625/625 - 2s - loss: 0.0490 - accuracy: 0.9854 - val_loss: 0.7170 - val_accuracy: 0.8290 - 2s/epoch - 3ms/step\n",
      "Epoch 25/30\n",
      "625/625 - 2s - loss: 0.0461 - accuracy: 0.9866 - val_loss: 0.7308 - val_accuracy: 0.8292 - 2s/epoch - 3ms/step\n",
      "Epoch 26/30\n",
      "625/625 - 2s - loss: 0.0422 - accuracy: 0.9879 - val_loss: 0.7541 - val_accuracy: 0.8259 - 2s/epoch - 3ms/step\n",
      "Epoch 27/30\n",
      "625/625 - 2s - loss: 0.0391 - accuracy: 0.9895 - val_loss: 0.7924 - val_accuracy: 0.8250 - 2s/epoch - 2ms/step\n",
      "Epoch 28/30\n",
      "625/625 - 2s - loss: 0.0374 - accuracy: 0.9898 - val_loss: 0.8193 - val_accuracy: 0.8243 - 2s/epoch - 2ms/step\n",
      "Epoch 29/30\n",
      "625/625 - 2s - loss: 0.0346 - accuracy: 0.9900 - val_loss: 0.8549 - val_accuracy: 0.8223 - 2s/epoch - 3ms/step\n",
      "Epoch 30/30\n",
      "625/625 - 2s - loss: 0.0321 - accuracy: 0.9915 - val_loss: 0.8935 - val_accuracy: 0.8155 - 2s/epoch - 2ms/step\n"
     ]
    }
   ],
   "source": [
    "num_epochs = 30\n",
    "history= model.fit(training_padded, training_labels, epochs = num_epochs,\n",
    "                  validation_data = (testing_padded, testing_labels),verbose=2)"
   ]
  },
  {
   "cell_type": "code",
   "execution_count": 84,
   "id": "68c791fd",
   "metadata": {},
   "outputs": [
    {
     "data": {
      "image/png": "[encoded data removed]",
      "text/plain": [
       "<Figure size 432x288 with 1 Axes>"
      ]
     },
     "metadata": {
      "needs_background": "light"
     },
     "output_type": "display_data"
    },
    {
     "data": {
      "image/png": "[encoded data removed]",
      "text/plain": [
       "<Figure size 432x288 with 1 Axes>"
      ]
     },
     "metadata": {
      "needs_background": "light"
     },
     "output_type": "display_data"
    }
   ],
   "source": [
    "import matplotlib.pyplot as plt\n",
    "def plot_graphs(history, string):\n",
    "  plt.plot(history.history[string])\n",
    "  plt.plot(history.history['val_'+string])\n",
    "  plt.xlabel(\"Epochs\")\n",
    "  plt.ylabel(string)\n",
    "  plt.legend([string, 'val_'+string])\n",
    "  plt.show()\n",
    "  \n",
    "plot_graphs(history, \"accuracy\")\n",
    "plot_graphs(history, \"loss\")"
   ]
  },
  {
   "cell_type": "code",
   "execution_count": 86,
   "id": "caea0420",
   "metadata": {},
   "outputs": [
    {
     "name": "stdout",
     "output_type": "stream",
     "text": [
      "former <OOV> store clerk sues over secret 'black <OOV> for minority shoppers ? ? ? ? ? ? ? ? ? ? ? ? ? ? ? ? ? ? ? ? ? ? ? ? ? ? ? ? ? ? ? ? ? ? ? ? ? ? ? ? ? ? ? ? ? ? ? ? ? ? ? ? ? ? ? ? ? ? ? ? ? ? ? ? ? ? ? ? ? ? ? ? ? ? ? ? ? ? ? ? ? ? ? ? ? ? ? ?\n",
      "mom starting to fear son's web series closest thing she will have to grandchild\n",
      "1\n"
     ]
    }
   ],
   "source": [
    "reverse_word_index = dict([(value, key) for (key, value) in word_index.items()])\n",
    "\n",
    "def decode_sentence(text):\n",
    "    return ' '.join([reverse_word_index.get(i, '?') for i in text])\n",
    "\n",
    "print(decode_sentence(training_padded[0]))\n",
    "print(training_sentences[2])\n",
    "print(labels[2])"
   ]
  },
  {
   "cell_type": "code",
   "execution_count": 88,
   "id": "5d942652",
   "metadata": {},
   "outputs": [
    {
     "name": "stdout",
     "output_type": "stream",
     "text": [
      "(10000, 16)\n"
     ]
    }
   ],
   "source": [
    "e = model.layers[0]\n",
    "weights = e.get_weights()[0]\n",
    "print(weights.shape) # shape: (vocab_size, embedding_dim)"
   ]
  },
  {
   "cell_type": "code",
   "execution_count": 90,
   "id": "11f0a977",
   "metadata": {},
   "outputs": [],
   "source": [
    "import io\n",
    "\n",
    "out_v = io.open('vecs.tsv', 'w', encoding='utf-8')\n",
    "out_m = io.open('meta.tsv', 'w', encoding='utf-8')\n",
    "for word_num in range(1, vocab_size):\n",
    "  word = reverse_word_index[word_num]\n",
    "  embeddings = weights[word_num]\n",
    "  out_m.write(word + \"\\n\")\n",
    "  out_v.write('\\t'.join([str(x) for x in embeddings]) + \"\\n\")\n",
    "out_v.close()\n",
    "out_m.close()"
   ]
  },
  {
   "cell_type": "code",
   "execution_count": 91,
   "id": "bb068741",
   "metadata": {},
   "outputs": [],
   "source": [
    "try:\n",
    "  from google.colab import files\n",
    "except ImportError:\n",
    "  pass\n",
    "else:\n",
    "  files.download('vecs.tsv')\n",
    "  files.download('meta.tsv')"
   ]
  },
  {
   "cell_type": "code",
   "execution_count": 92,
   "id": "36b27a99",
   "metadata": {},
   "outputs": [
    {
     "name": "stdout",
     "output_type": "stream",
     "text": [
      "1/1 [==============================] - 0s 110ms/step\n",
      "[[9.7335345e-01]\n",
      " [6.1373529e-04]]\n"
     ]
    }
   ],
   "source": [
    "sentence = [\"granny starting to fear spiders in the garden might be real\", \"game of thrones season finale showing this sunday night\"]\n",
    "sequences = tokenizer.texts_to_sequences(sentence)\n",
    "padded = pad_sequences(sequences, maxlen=max_length, padding=padding_type, truncating=trunc_type)\n",
    "print(model.predict(padded))"
   ]
  }
 ],
 "metadata": {
  "kernelspec": {
   "display_name": "Python 3 (ipykernel)",
   "language": "python",
   "name": "python3"
  },
  "language_info": {
   "codemirror_mode": {
    "name": "ipython",
    "version": 3
   },
   "file_extension": ".py",
   "mimetype": "text/x-python",
   "name": "python",
   "nbconvert_exporter": "python",
   "pygments_lexer": "ipython3",
   "version": "3.9.12"
  }
 },
 "nbformat": 4,
 "nbformat_minor": 5
}
